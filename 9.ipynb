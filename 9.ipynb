{
  "nbformat": 4,
  "nbformat_minor": 0,
  "metadata": {
    "colab": {
      "name": "9.ipynb",
      "provenance": [],
      "collapsed_sections": [],
      "authorship_tag": "ABX9TyPBs40/MRR2MPR60/orJco9",
      "include_colab_link": true
    },
    "kernelspec": {
      "name": "python3",
      "display_name": "Python 3"
    }
  },
  "cells": [
    {
      "cell_type": "markdown",
      "metadata": {
        "id": "view-in-github",
        "colab_type": "text"
      },
      "source": [
        "<a href=\"https://colab.research.google.com/github/Konkoxu/Python/blob/main/9.ipynb\" target=\"_parent\"><img src=\"https://colab.research.google.com/assets/colab-badge.svg\" alt=\"Open In Colab\"/></a>"
      ]
    },
    {
      "cell_type": "markdown",
      "metadata": {
        "id": "KH8bcEkWeTmv"
      },
      "source": [
        "### Zajecia z pythona np"
      ]
    },
    {
      "cell_type": "code",
      "metadata": {
        "id": "mvyzpuhJ3jad",
        "colab": {
          "base_uri": "https://localhost:8080/"
        },
        "outputId": "ecb9f66e-898d-4c49-95df-5fed9ad885d7"
      },
      "source": [
        "print(\"hehe\")"
      ],
      "execution_count": 6,
      "outputs": [
        {
          "output_type": "stream",
          "text": [
            "hehe\n"
          ],
          "name": "stdout"
        }
      ]
    }
  ]
}